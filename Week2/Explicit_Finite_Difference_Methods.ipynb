{
 "cells": [
  {
   "cell_type": "code",
   "execution_count": 2,
   "id": "36ff95c3",
   "metadata": {
    "pycharm": {
     "name": "#%%\n"
    }
   },
   "outputs": [],
   "source": [
    "import numpy as np\n",
    "import matplotlib.pyplot as plt\n",
    "from scipy import sparse"
   ]
  },
  {
   "cell_type": "markdown",
   "id": "354316fa",
   "metadata": {},
   "source": [
    "# Relaxation Method\n",
    "1) Divide the region of interest into a rectangular grid spanning the region. The region is enclosed by a surface (curve in two dimensions) with specified values of the potential along the curve.\n",
    "\n",
    "2) Assign to a boundary site the potential of the boundary nearest the site.\n",
    "\n",
    "3) Assign all interior sites an arbitrary potential (preferably a reasonable guess).\n",
    "\n",
    "4) Compute new values for the potential V for each interior site. Each new value is obtained by finding the average of the previous values of the potential at the four nearest neighbor sites.\n",
    "\n",
    "5) Repeat step (4) using the values of V obtained in the previous iteration. This iterative process is continued until the potential at each interior site is computed to the desired accuracy."
   ]
  },
  {
   "cell_type": "markdown",
   "id": "f8eaf1a0",
   "metadata": {},
   "source": [
    "# Problem 10.10 Numerical solution of the potential within a rectangular region"
   ]
  },
  {
   "cell_type": "code",
   "execution_count": 9,
   "id": "0c5917c1",
   "metadata": {
    "pycharm": {
     "name": "#%%\n"
    }
   },
   "outputs": [
    {
     "name": "stdout",
     "output_type": "stream",
     "text": [
      "[[10.        10.        10.        10.        10.       ]\n",
      " [10.         5.         3.75       5.9375    10.       ]\n",
      " [10.         3.75       1.875      4.453125  10.       ]\n",
      " [10.         5.9375     4.453125   7.2265625 10.       ]\n",
      " [10.        10.        10.        10.        10.       ]]\n",
      "[[10.         10.         10.         10.         10.        ]\n",
      " [10.          6.875       6.171875    7.65625    10.        ]\n",
      " [10.          6.171875    5.3125      7.54882812 10.        ]\n",
      " [10.          7.65625     7.54882812  8.77441406 10.        ]\n",
      " [10.         10.         10.         10.         10.        ]]\n",
      "[[10.         10.         10.         10.         10.        ]\n",
      " [10.          8.0859375   7.76367188  8.828125   10.        ]\n",
      " [10.          7.76367188  7.65625     8.81469727 10.        ]\n",
      " [10.          8.828125    8.81469727  9.40734863 10.        ]\n",
      " [10.         10.         10.         10.         10.        ]]\n",
      "[[10.         10.         10.         10.         10.        ]\n",
      " [10.          8.88183594  8.84155273  9.4140625  10.        ]\n",
      " [10.          8.84155273  8.828125    9.41238403 10.        ]\n",
      " [10.          9.4140625   9.41238403  9.70619202 10.        ]\n",
      " [10.         10.         10.         10.         10.        ]]\n",
      "[[10.         10.         10.         10.         10.        ]\n",
      " [10.          9.42077637  9.41574097  9.70703125 10.        ]\n",
      " [10.          9.41574097  9.4140625   9.70682144 10.        ]\n",
      " [10.          9.70703125  9.70682144  9.85341072 10.        ]\n",
      " [10.         10.         10.         10.         10.        ]]\n",
      "[[10.         10.         10.         10.         10.        ]\n",
      " [10.          9.70787048  9.70724106  9.85351562 10.        ]\n",
      " [10.          9.70724106  9.70703125  9.8534894  10.        ]\n",
      " [10.          9.85351562  9.8534894   9.9267447  10.        ]\n",
      " [10.         10.         10.         10.         10.        ]]\n",
      "[[10.         10.         10.         10.         10.        ]\n",
      " [10.          9.85362053  9.85354185  9.92675781 10.        ]\n",
      " [10.          9.85354185  9.85351562  9.92675453 10.        ]\n",
      " [10.          9.92675781  9.92675453  9.96337727 10.        ]\n",
      " [10.         10.         10.         10.         10.        ]]\n",
      "[[10.         10.         10.         10.         10.        ]\n",
      " [10.          9.92677093  9.92676109  9.96337891 10.        ]\n",
      " [10.          9.92676109  9.92675781  9.9633785  10.        ]\n",
      " [10.          9.96337891  9.9633785   9.98168925 10.        ]\n",
      " [10.         10.         10.         10.         10.        ]]\n",
      "[[10.         10.         10.         10.         10.        ]\n",
      " [10.          9.96338055  9.96337932  9.98168945 10.        ]\n",
      " [10.          9.96337932  9.96337891  9.9816894  10.        ]\n",
      " [10.          9.98168945  9.9816894   9.9908447  10.        ]\n",
      " [10.         10.         10.         10.         10.        ]]\n",
      "[[10.         10.         10.         10.         10.        ]\n",
      " [10.          9.98168966  9.9816895   9.99084473 10.        ]\n",
      " [10.          9.9816895   9.98168945  9.99084472 10.        ]\n",
      " [10.          9.99084473  9.99084472  9.99542236 10.        ]\n",
      " [10.         10.         10.         10.         10.        ]]\n"
     ]
    }
   ],
   "source": [
    "# Part (a)\n",
    "# Part 1 of the relaxation method: create a rectangular grid spanning the region\n",
    "L = 5\n",
    "dx = 1\n",
    "dy = 1\n",
    "boundary = 10\n",
    "\n",
    "def V(i, j, u):\n",
    "    return (1/4) * (u[i+1, j] + u[i-1, j] + u[i, j+1] + u[i, j-1])\n",
    "\n",
    "# Part 3: create our initial guess u_0\n",
    "u = np.zeros([L, L]) \n",
    "\n",
    "# Part 2: assign to a boundary site the potential of the boundary nearest the site\n",
    "def assign_boundary(u, boundary):\n",
    "    u[:, 0] = boundary  # left col\n",
    "    u[:, -1] = boundary # right col\n",
    "    u[0, :] = boundary  # top row\n",
    "    u[-1, :] = boundary # bottom row\n",
    "    return u\n",
    "u = assign_boundary(u, boundary)\n",
    "\n",
    "# Part 4: compute new values for the potential V for each interior site\n",
    "def do_step(u, L):\n",
    "    for i in range(1, L-1):\n",
    "        for j in range(1, L-1):\n",
    "            u[i, j] = V(i, j, u)\n",
    "    return u\n"
   ]
  },
  {
   "cell_type": "code",
   "execution_count": null,
   "id": "e3660658",
   "metadata": {},
   "outputs": [],
   "source": [
    "# Alternative approach: Try multiplying by the matrix A instead of looping over the "
   ]
  },
  {
   "cell_type": "code",
   "execution_count": null,
   "id": "ad7882f7",
   "metadata": {},
   "outputs": [],
   "source": []
  },
  {
   "cell_type": "code",
   "execution_count": null,
   "id": "6c584edc",
   "metadata": {},
   "outputs": [],
   "source": []
  }
 ],
 "metadata": {
  "kernelspec": {
   "display_name": "Python 3 (ipykernel)",
   "language": "python",
   "name": "python3"
  },
  "language_info": {
   "codemirror_mode": {
    "name": "ipython",
    "version": 3
   },
   "file_extension": ".py",
   "mimetype": "text/x-python",
   "name": "python",
   "nbconvert_exporter": "python",
   "pygments_lexer": "ipython3",
   "version": "3.9.6"
  }
 },
 "nbformat": 4,
 "nbformat_minor": 5
}