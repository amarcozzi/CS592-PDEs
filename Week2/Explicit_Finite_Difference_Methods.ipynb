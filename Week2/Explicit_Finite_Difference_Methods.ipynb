{
 "cells": [
  {
   "cell_type": "code",
   "execution_count": 2,
   "id": "36ff95c3",
   "metadata": {
    "pycharm": {
     "name": "#%%\n"
    }
   },
   "outputs": [],
   "source": [
    "import time\n",
    "import numpy as np\n",
    "import matplotlib.pyplot as plt\n",
    "from scipy import sparse\n",
    "from scipy import signal\n",
    "from prettytable import PrettyTable"
   ]
  },
  {
   "cell_type": "markdown",
   "id": "354316fa",
   "metadata": {},
   "source": [
    "# Relaxation Method\n",
    "1) Divide the region of interest into a rectangular grid spanning the region. The region is enclosed by a surface (curve in two dimensions) with specified values of the potential along the curve.\n",
    "\n",
    "2) Assign to a boundary site the potential of the boundary nearest the site.\n",
    "\n",
    "3) Assign all interior sites an arbitrary potential (preferably a reasonable guess).\n",
    "\n",
    "4) Compute new values for the potential V for each interior site. Each new value is obtained by finding the average of the previous values of the potential at the four nearest neighbor sites.\n",
    "\n",
    "5) Repeat step (4) using the values of V obtained in the previous iteration. This iterative process is continued until the potential at each interior site is computed to the desired accuracy."
   ]
  },
  {
   "cell_type": "markdown",
   "id": "f8eaf1a0",
   "metadata": {},
   "source": [
    "# Problem 10.10 Numerical solution of the potential within a rectangular region"
   ]
  },
  {
   "cell_type": "code",
   "execution_count": 3,
   "id": "0c5917c1",
   "metadata": {
    "pycharm": {
     "name": "#%%\n"
    }
   },
   "outputs": [],
   "source": [
    "# Part (a)\n",
    "# Part 1 of the relaxation method: create a rectangular grid spanning the region\n",
    "L = 6\n",
    "dx = 1\n",
    "dy = 1\n",
    "boundary_left = 5\n",
    "boundary_right = 5\n",
    "boundary_top = 10\n",
    "boundary_bottom = 10\n",
    "threshold = 1e-16\n",
    "\n",
    "def V(i, j, u):\n",
    "    return (1/4) * (u[i+1, j] + u[i-1, j] + u[i, j+1] + u[i, j-1])\n",
    "\n",
    "# Part 3: create our initial guess u_0\n",
    "u0 = np.zeros([L, L])\n",
    "\n",
    "# Part 2: assign to a boundary site the potential of the boundary nearest the site\n",
    "def assign_boundary(u, boundary_left, boundary_right, boundary_top, boundary_bottom):\n",
    "    u[:, 0] = boundary_left  # left col\n",
    "    u[:, -1] = boundary_right # right col\n",
    "    u[0, :] = boundary_top  # top row\n",
    "    u[-1, :] = boundary_bottom # bottom row\n",
    "    return u\n",
    "u0 = assign_boundary(u0, boundary_left, boundary_right, boundary_top, boundary_bottom)\n",
    "\n",
    "# Part 4: compute new values for the potential V for each interior site\n",
    "def solve_u(u, do_step, threshold, max_iters=10000):\n",
    "    start_time = time.time()\n",
    "    error = 100\n",
    "    iters = 0\n",
    "    u_prev = np.zeros(u.shape)\n",
    "    while error > threshold and iters < max_iters:\n",
    "        u = do_step(u)\n",
    "        error = compute_error(u, u_prev)\n",
    "        u_prev = np.copy(u)\n",
    "        iters += 1\n",
    "    return u, iters, error, (time.time() - start_time)\n",
    "        \n",
    "# 5) Repeat step (4) using the values of V obtained in the previous iteration. \n",
    "# This iterative process is continued until the potential at each interior site \n",
    "# is computed to the desired accuracy.        \n",
    "def compute_error(u, u_last):\n",
    "    diffs = np.abs(u - u_last)\n",
    "    return diffs.mean()"
   ]
  },
  {
   "cell_type": "code",
   "execution_count": 4,
   "id": "e5979ef6",
   "metadata": {},
   "outputs": [],
   "source": [
    "# Define different solving methods using explicit method\n",
    "def do_step_basic(u):\n",
    "    temp = np.copy(u)\n",
    "    for i in range(1, L-1):\n",
    "        for j in range(1, L-1):\n",
    "            temp[i, j] = V(i, j, u)\n",
    "    return temp\n",
    "\n",
    "def do_step_in_place(u):\n",
    "    rows, cols = u.shape\n",
    "    for i in range(1, rows-1):\n",
    "        for j in range(1, cols-1):\n",
    "            u[i, j] = V(i, j, u)\n",
    "    return u\n",
    "\n",
    "def do_step_convolve(u):\n",
    "    kernel = np.array([[0, 1/4, 0], [1/4, 0, 1/4], [0, 1/4, 0]])\n",
    "    u_temp = signal.convolve2d(u, kernel, mode='same')\n",
    "    return assign_boundary(u_temp, boundary_left, boundary_right, boundary_top, boundary_bottom)"
   ]
  },
  {
   "cell_type": "code",
   "execution_count": 5,
   "id": "391e1de3",
   "metadata": {},
   "outputs": [
    {
     "name": "stdout",
     "output_type": "stream",
     "text": [
      "+---------------------------------------------------------------------------------------------------+\n",
      "|                                 Comparison of Explicit FDM Methods                                |\n",
      "+--------------------+---------------------------+-------------------------+------------------------+\n",
      "|       Method       | Iterations to Convergence | Time to Convergence (s) |         Error          |\n",
      "+--------------------+---------------------------+-------------------------+------------------------+\n",
      "| One step at a time |            171            |   0.014852046966552734  | 9.868649107779169e-17  |\n",
      "|  Changes in place  |             87            |  0.0024461746215820312  | 4.9343245538895844e-17 |\n",
      "|    Convolution     |             4             |  0.0002200603485107422  | 4.9343245538895844e-17 |\n",
      "+--------------------+---------------------------+-------------------------+------------------------+\n"
     ]
    }
   ],
   "source": [
    "\"\"\"\n",
    "Run all 3 methods and compare number of steps to converge, error, and total time for each\n",
    "\"\"\"\n",
    "# One step at a time\n",
    "u_solution, iterations_basic, error_basic, time_basic = solve_u(u0, do_step_basic, threshold)\n",
    "\n",
    "# Change values in place\n",
    "u_solution, iterations_inplace, error_inplace, time_inplace = solve_u(u0, do_step_in_place, threshold)\n",
    "\n",
    "# Compute changes via convolution\n",
    "u_solution, iterations_convolve, error_convolve, time_convolve = solve_u(u0, do_step_convolve, threshold)\n",
    "\n",
    "# Plot the results in a table\n",
    "t = PrettyTable()\n",
    "t.title = 'Comparison of Explicit FDM Methods'\n",
    "t.field_names = ['Method', 'Iterations to Convergence', 'Time to Convergence (s)', 'Error']\n",
    "t.add_row(['One step at a time', iterations_basic, time_basic, error_basic])\n",
    "t.add_row(['Changes in place', iterations_inplace, time_inplace, error_inplace])\n",
    "t.add_row(['Convolution', iterations_convolve, time_convolve, error_convolve])\n",
    "print(t)"
   ]
  },
  {
   "cell_type": "markdown",
   "id": "5c674a60",
   "metadata": {},
   "source": [
    "# Problem 10.11 Gauss-Seidel relaxation"
   ]
  },
  {
   "cell_type": "code",
   "execution_count": null,
   "id": "14bfb004",
   "metadata": {},
   "outputs": [],
   "source": []
  }
 ],
 "metadata": {
  "kernelspec": {
   "display_name": "Python 3 (ipykernel)",
   "language": "python",
   "name": "python3"
  },
  "language_info": {
   "codemirror_mode": {
    "name": "ipython",
    "version": 3
   },
   "file_extension": ".py",
   "mimetype": "text/x-python",
   "name": "python",
   "nbconvert_exporter": "python",
   "pygments_lexer": "ipython3",
   "version": "3.9.6"
  }
 },
 "nbformat": 4,
 "nbformat_minor": 5
}