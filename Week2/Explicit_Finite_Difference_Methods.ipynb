{
 "cells": [
  {
   "cell_type": "code",
   "execution_count": 1,
   "id": "8680524f",
   "metadata": {},
   "outputs": [],
   "source": [
    "import numpy as np\n",
    "import matplotlib.pyplot as plt"
   ]
  },
  {
   "cell_type": "markdown",
   "id": "d3488e58",
   "metadata": {},
   "source": [
    "# Relaxation Method\n",
    "1) Divide the region of interest into a rectangular grid spanning the region. The region is enclosed by a surface (curve in two dimensions) with specified values of the potential along the curve.\n",
    "2) Assign to a boundary site the potential of the boundary nearest the site.\n",
    "3) Assign all interior sites an arbitrary potential (preferably a reasonable guess).\n",
    "4) Compute new values for the potential V for each interior site. Each new value is obtained by finding the average of the previous values of the potential at the four nearest neighbor sites.\n",
    "5) Repeat step (4) using the values of V obtained in the previous iteration. This iterative process is continued until the potential at each interior site is computed to the desired accuracy."
   ]
  },
  {
   "cell_type": "markdown",
   "id": "59d4ec8f",
   "metadata": {},
   "source": [
    "# Problem 10.10 Numerical solution of the potential within a rectangular region"
   ]
  },
  {
   "cell_type": "code",
   "execution_count": null,
   "id": "17dab5a6",
   "metadata": {},
   "outputs": [],
   "source": []
  }
 ],
 "metadata": {
  "kernelspec": {
   "display_name": "PyCharm (CS547-ML)",
   "language": "python",
   "name": "pycharm-b6815a1a"
  },
  "language_info": {
   "codemirror_mode": {
    "name": "ipython",
    "version": 3
   },
   "file_extension": ".py",
   "mimetype": "text/x-python",
   "name": "python",
   "nbconvert_exporter": "python",
   "pygments_lexer": "ipython3",
   "version": "3.9.6"
  }
 },
 "nbformat": 4,
 "nbformat_minor": 5
}
