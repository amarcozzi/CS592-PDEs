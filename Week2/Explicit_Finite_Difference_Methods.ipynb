{
 "cells": [
  {
   "cell_type": "code",
   "execution_count": 12,
   "id": "36ff95c3",
   "metadata": {
    "pycharm": {
     "name": "#%%\n"
    }
   },
   "outputs": [],
   "source": [
    "import numpy as np\n",
    "import matplotlib.pyplot as plt\n",
    "from scipy import sparse"
   ]
  },
  {
   "cell_type": "markdown",
   "id": "354316fa",
   "metadata": {},
   "source": [
    "# Relaxation Method\n",
    "1) Divide the region of interest into a rectangular grid spanning the region. The region is enclosed by a surface (curve in two dimensions) with specified values of the potential along the curve.\n",
    "\n",
    "2) Assign to a boundary site the potential of the boundary nearest the site.\n",
    "\n",
    "3) Assign all interior sites an arbitrary potential (preferably a reasonable guess).\n",
    "\n",
    "4) Compute new values for the potential V for each interior site. Each new value is obtained by finding the average of the previous values of the potential at the four nearest neighbor sites.\n",
    "\n",
    "5) Repeat step (4) using the values of V obtained in the previous iteration. This iterative process is continued until the potential at each interior site is computed to the desired accuracy."
   ]
  },
  {
   "cell_type": "markdown",
   "id": "f8eaf1a0",
   "metadata": {},
   "source": [
    "# Problem 10.10 Numerical solution of the potential within a rectangular region"
   ]
  },
  {
   "cell_type": "code",
   "execution_count": 17,
   "id": "0c5917c1",
   "metadata": {
    "pycharm": {
     "name": "#%%\n"
    }
   },
   "outputs": [],
   "source": [
    "# Part (a)\n",
    "# Part 1 of the relaxation method: create a rectangular grid spanning the region\n",
    "L = 6\n",
    "dx = 1\n",
    "dy = 1\n",
    "boundary = 10\n",
    "u_0 = 9\n",
    "threshold = 1e-6\n",
    "\n",
    "def V(i, j, u):\n",
    "    return (1/4) * (u[i+1, j] + u[i-1, j] + u[i, j+1] + u[i, j-1])\n",
    "\n",
    "# Part 3: create our initial guess u_0\n",
    "u0 = np.zeros([L, L]) + np.random.random([L, L])\n",
    "\n",
    "# Part 2: assign to a boundary site the potential of the boundary nearest the site\n",
    "def assign_boundary(u, boundary):\n",
    "    u[:, 0] = boundary  # left col\n",
    "    u[:, -1] = boundary # right col\n",
    "    u[0, :] = boundary  # top row\n",
    "    u[-1, :] = boundary # bottom row\n",
    "    return u\n",
    "u0 = assign_boundary(u, boundary)\n",
    "\n",
    "# Part 4: compute new values for the potential V for each interior site\n",
    "def solve_u(u, do_step, threshold, max_iters=1000):\n",
    "    error = 100\n",
    "    iters = 0\n",
    "    u_prev = \n",
    "    while error < threshold or iters<max_iters:\n",
    "        u = do_step(u)\n",
    "        error = compute_error(u, u_prev)\n",
    "        u_prev = u\n",
    "        iters += 1\n",
    "    return u, iters, error\n",
    "        \n",
    "# 5) Repeat step (4) using the values of V obtained in the previous iteration. \n",
    "# This iterative process is continued until the potential at each interior site \n",
    "# is computed to the desired accuracy.        \n",
    "def compute_error(u, u_last):\n",
    "    diffs = np.abs(u - u_last)\n",
    "    return diffs.max()"
   ]
  },
  {
   "cell_type": "code",
   "execution_count": 18,
   "id": "e5979ef6",
   "metadata": {},
   "outputs": [],
   "source": [
    "# Define different solving methods\n",
    "def do_step_basic(u):\n",
    "    temp = np.zeros(u.shape)\n",
    "    for i in range(1, L-1):\n",
    "        for j in range(1, L-1):\n",
    "            temp[i, j] = V(i, j, u)\n",
    "    return temp\n",
    "\n",
    "def do_step_in_place(u):\n",
    "    rows, cols = u.shape\n",
    "    for i in range(1, rows):\n",
    "        for j in range(1, cols):\n",
    "            u[i, j] = V(i, j, u)\n",
    "    return u\n",
    "\n",
    "def do_step_convole(u):\n",
    "    pass"
   ]
  },
  {
   "cell_type": "code",
   "execution_count": 19,
   "id": "391e1de3",
   "metadata": {},
   "outputs": [
    {
     "ename": "UnboundLocalError",
     "evalue": "local variable 'u_prev' referenced before assignment",
     "output_type": "error",
     "traceback": [
      "\u001B[0;31m---------------------------------------------------------------------------\u001B[0m",
      "\u001B[0;31mUnboundLocalError\u001B[0m                         Traceback (most recent call last)",
      "\u001B[0;32m/tmp/ipykernel_256393/2307742852.py\u001B[0m in \u001B[0;36m<module>\u001B[0;34m\u001B[0m\n\u001B[0;32m----> 1\u001B[0;31m \u001B[0mu_solution\u001B[0m\u001B[0;34m,\u001B[0m \u001B[0miterations\u001B[0m\u001B[0;34m,\u001B[0m \u001B[0msolution_error\u001B[0m \u001B[0;34m=\u001B[0m \u001B[0msolve_u\u001B[0m\u001B[0;34m(\u001B[0m\u001B[0mu0\u001B[0m\u001B[0;34m,\u001B[0m \u001B[0mdo_step_basic\u001B[0m\u001B[0;34m,\u001B[0m \u001B[0mthreshold\u001B[0m\u001B[0;34m)\u001B[0m\u001B[0;34m\u001B[0m\u001B[0;34m\u001B[0m\u001B[0m\n\u001B[0m",
      "\u001B[0;32m/tmp/ipykernel_256393/3977811267.py\u001B[0m in \u001B[0;36msolve_u\u001B[0;34m(u, do_step, threshold, max_iters)\u001B[0m\n\u001B[1;32m     29\u001B[0m     \u001B[0;32mwhile\u001B[0m \u001B[0merror\u001B[0m \u001B[0;34m<\u001B[0m \u001B[0mthreshold\u001B[0m \u001B[0;32mor\u001B[0m \u001B[0miters\u001B[0m\u001B[0;34m<\u001B[0m\u001B[0mmax_iters\u001B[0m\u001B[0;34m:\u001B[0m\u001B[0;34m\u001B[0m\u001B[0;34m\u001B[0m\u001B[0m\n\u001B[1;32m     30\u001B[0m         \u001B[0mu\u001B[0m \u001B[0;34m=\u001B[0m \u001B[0mdo_step\u001B[0m\u001B[0;34m(\u001B[0m\u001B[0mu\u001B[0m\u001B[0;34m)\u001B[0m\u001B[0;34m\u001B[0m\u001B[0;34m\u001B[0m\u001B[0m\n\u001B[0;32m---> 31\u001B[0;31m         \u001B[0merror\u001B[0m \u001B[0;34m=\u001B[0m \u001B[0mcompute_error\u001B[0m\u001B[0;34m(\u001B[0m\u001B[0mu\u001B[0m\u001B[0;34m,\u001B[0m \u001B[0mu_prev\u001B[0m\u001B[0;34m)\u001B[0m\u001B[0;34m\u001B[0m\u001B[0;34m\u001B[0m\u001B[0m\n\u001B[0m\u001B[1;32m     32\u001B[0m         \u001B[0mu_prev\u001B[0m \u001B[0;34m=\u001B[0m \u001B[0mu\u001B[0m\u001B[0;34m\u001B[0m\u001B[0;34m\u001B[0m\u001B[0m\n\u001B[1;32m     33\u001B[0m         \u001B[0miters\u001B[0m \u001B[0;34m+=\u001B[0m \u001B[0;36m1\u001B[0m\u001B[0;34m\u001B[0m\u001B[0;34m\u001B[0m\u001B[0m\n",
      "\u001B[0;31mUnboundLocalError\u001B[0m: local variable 'u_prev' referenced before assignment"
     ]
    }
   ],
   "source": [
    "u_solution, iterations, solution_error = solve_u(u0, do_step_basic, threshold)"
   ]
  },
  {
   "cell_type": "code",
   "execution_count": null,
   "id": "7371971e",
   "metadata": {},
   "outputs": [],
   "source": []
  }
 ],
 "metadata": {
  "kernelspec": {
   "display_name": "Python 3 (ipykernel)",
   "language": "python",
   "name": "python3"
  },
  "language_info": {
   "codemirror_mode": {
    "name": "ipython",
    "version": 3
   },
   "file_extension": ".py",
   "mimetype": "text/x-python",
   "name": "python",
   "nbconvert_exporter": "python",
   "pygments_lexer": "ipython3",
   "version": "3.8.10"
  }
 },
 "nbformat": 4,
 "nbformat_minor": 5
}