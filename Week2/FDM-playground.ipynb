{
 "cells": [
  {
   "cell_type": "code",
   "execution_count": 2,
   "metadata": {},
   "outputs": [],
   "source": [
    "import numpy as np\n",
    "from scipy import linalg, sparse\n",
    "import matplotlib.pyplot as plt"
   ]
  },
  {
   "cell_type": "code",
   "execution_count": 14,
   "metadata": {},
   "outputs": [
    {
     "data": {
      "image/png": "[encoded data removed]",
      "text/plain": [
       "<Figure size 432x288 with 1 Axes>"
      ]
     },
     "metadata": {
      "needs_background": "light"
     },
     "output_type": "display_data"
    }
   ],
   "source": [
    "# Excercise 1:\n",
    "# Approximate a solution to the ODE: -u''(x) - cu'(x) + du(x) = f(x)\n",
    "# Allow the following:\n",
    "c = 0\n",
    "d = 10e-4\n",
    "def f(x):\n",
    "    # return np.sin(x)**2\n",
    "    return 0 * x\n",
    "    \n",
    "L = 10   # Length of the domain (in meters)\n",
    "N = 1000 # Number of mesh points\n",
    "h = L/N\n",
    "\n",
    "# Set up the stencil for the -u''(x) term\n",
    "first_col = np.zeros(N)\n",
    "first_col[0] = 2\n",
    "first_col[1] = -1\n",
    "H = 1/h**2 * linalg.toeplitz(first_col)\n",
    "\n",
    "# Set up the stencil for the cu'(x) term\n",
    "first_col = np.zeros(N)\n",
    "first_col[1] = -1\n",
    "C = c/(2*h) * linalg.toeplitz(first_col)\n",
    "\n",
    "# Set up the stencil for the du(x) term\n",
    "first_col = np.zeros(N)\n",
    "first_col[0] = 1\n",
    "D = d/h * linalg.toeplitz(first_col)\n",
    "\n",
    "A = H + C + D\n",
    "\n",
    "# Set up the F vector where f_i = f(x_i)\n",
    "x_pts = np.linspace(0, L, N)\n",
    "F = f(x_pts)\n",
    "F[0] = 1\n",
    "\n",
    "# Solve Au = F for u\n",
    "u = linalg.solve(A, F)\n",
    "\n",
    "# Plot the solution\n",
    "plt.plot(x_pts, u)\n",
    "plt.xlabel('x')\n",
    "plt.ylabel('u')\n",
    "plt.title('Approximate solution to -u\\'\\'(x) - cu\\'(x) + du(x) = f(x) over x = [0, 10]')\n",
    "plt.show()"
   ]
  },
  {
   "cell_type": "code",
   "execution_count": 1,
   "metadata": {},
   "outputs": [
    {
     "ename": "NameError",
     "evalue": "name 'sparse' is not defined",
     "output_type": "error",
     "traceback": [
      "\u001b[0;31m---------------------------------------------------------------------------\u001b[0m",
      "\u001b[0;31mNameError\u001b[0m                                 Traceback (most recent call last)",
      "\u001b[0;32m/var/folders/rk/jmwfy6gs5133_fvvr02b6t040000gn/T/ipykernel_30183/1935335605.py\u001b[0m in \u001b[0;36m<module>\u001b[0;34m\u001b[0m\n\u001b[1;32m     14\u001b[0m \u001b[0;34m\u001b[0m\u001b[0m\n\u001b[1;32m     15\u001b[0m \u001b[0;31m# Set up the stencil for the second derivative\u001b[0m\u001b[0;34m\u001b[0m\u001b[0;34m\u001b[0m\u001b[0;34m\u001b[0m\u001b[0m\n\u001b[0;32m---> 16\u001b[0;31m \u001b[0mstencil\u001b[0m \u001b[0;34m=\u001b[0m \u001b[0msparse\u001b[0m\u001b[0;34m.\u001b[0m\u001b[0mdiags\u001b[0m\u001b[0;34m(\u001b[0m\u001b[0;34m[\u001b[0m\u001b[0;36m1\u001b[0m\u001b[0;34m,\u001b[0m \u001b[0;34m-\u001b[0m\u001b[0;36m4\u001b[0m\u001b[0;34m,\u001b[0m \u001b[0;36m1\u001b[0m\u001b[0;34m]\u001b[0m\u001b[0;34m,\u001b[0m \u001b[0;34m[\u001b[0m\u001b[0;34m-\u001b[0m\u001b[0;36m1\u001b[0m\u001b[0;34m,\u001b[0m \u001b[0;36m1\u001b[0m\u001b[0;34m,\u001b[0m \u001b[0;36m1\u001b[0m\u001b[0;34m]\u001b[0m\u001b[0;34m,\u001b[0m \u001b[0mshape\u001b[0m\u001b[0;34m=\u001b[0m\u001b[0;34m[\u001b[0m\u001b[0mN\u001b[0m\u001b[0;34m,\u001b[0m \u001b[0mN\u001b[0m\u001b[0;34m]\u001b[0m\u001b[0;34m)\u001b[0m\u001b[0;34m\u001b[0m\u001b[0;34m\u001b[0m\u001b[0m\n\u001b[0m\u001b[1;32m     17\u001b[0m \u001b[0;34m\u001b[0m\u001b[0m\n\u001b[1;32m     18\u001b[0m \u001b[0;34m\u001b[0m\u001b[0m\n",
      "\u001b[0;31mNameError\u001b[0m: name 'sparse' is not defined"
     ]
    }
   ],
   "source": [
    "# Excercise 2:\n",
    "# Solve the Steady State 2D Heat Equation\n",
    "# Using an explicit finite difference method\n",
    "# c*u_xx + d*u_yy = rho(x, y)\n",
    "\n",
    "# Allow the following:\n",
    "c = 2\n",
    "d = 2\n",
    "def rho(x, y):\n",
    "    return np.sin(x) + np.cos(y)\n",
    "J = 10\n",
    "L = 10\n",
    "N = 10\n",
    "\n",
    "# Set up the stencil for the second derivative\n",
    "stencil = sparse.diags([1, -4, 1], [-1, 1, 1], shape=[N, N])\n",
    "\n",
    "\n",
    "# Set up the matrix for the c*u_xx term\n",
    "U_xx = c * stencil\n",
    "\n",
    "# Set up the matrix for the d*u_yy term\n",
    "U_yy = d * stencil\n",
    "\n",
    "A = U_xx + U_yy\n",
    "\n",
    "# Construct the F vector that consists of the source terms."
   ]
  },
  {
   "cell_type": "code",
   "execution_count": null,
   "metadata": {},
   "outputs": [],
   "source": []
  }
 ],
 "metadata": {
  "kernelspec": {
   "display_name": "Python 3 (ipykernel)",
   "language": "python",
   "name": "python3"
  },
  "language_info": {
   "codemirror_mode": {
    "name": "ipython",
    "version": 3
   },
   "file_extension": ".py",
   "mimetype": "text/x-python",
   "name": "python",
   "nbconvert_exporter": "python",
   "pygments_lexer": "ipython3",
   "version": "3.9.6"
  }
 },
 "nbformat": 4,
 "nbformat_minor": 1
}
