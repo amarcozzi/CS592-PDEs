{
 "cells": [
  {
   "cell_type": "markdown",
   "metadata": {},
   "source": [
    "# A FEM implementation of \"On a Wildland Fire Model with Radiation\" using Firedrake\n",
    "\n",
    "Asensio, M.I. and Ferragut, L. (2002), On a wildland fire model with radiation. Int. J. Numer. Meth. Engng., 54: 137-157. https://doi.org/10.1002/nme.420"
   ]
  },
  {
   "cell_type": "code",
   "execution_count": 1,
   "metadata": {},
   "outputs": [],
   "source": [
    "from firedrake import *\n",
    "from tqdm import tqdm\n",
    "import numpy as np\n",
    "import matplotlib.pyplot as plt\n",
    "from scipy import constants"
   ]
  },
  {
   "cell_type": "code",
   "execution_count": 2,
   "metadata": {},
   "outputs": [],
   "source": [
    "# Mesh parameters\n",
    "nx = 50\n",
    "ny = 50\n",
    "Lx = 10\n",
    "Ly = 10\n",
    "mesh = RectangleMesh(nx, ny, Lx, Ly)\n",
    "x, y = SpatialCoordinate(mesh)"
   ]
  },
  {
   "cell_type": "code",
   "execution_count": 3,
   "metadata": {},
   "outputs": [],
   "source": [
    "# Simulation time parameters\n",
    "time = 5.\n",
    "num_steps = 500\n",
    "dt_step = time / num_steps\n",
    "dt = Constant(dt_step)"
   ]
  },
  {
   "cell_type": "code",
   "execution_count": 4,
   "metadata": {},
   "outputs": [],
   "source": [
    "# Define the wind field\n",
    "w_uv = as_vector([5, 0])\n",
    "W = VectorFunctionSpace(mesh, family='CG', degree=2, dim=2)\n",
    "w = interpolate(w_uv, W)"
   ]
  },
  {
   "cell_type": "code",
   "execution_count": 5,
   "metadata": {},
   "outputs": [],
   "source": [
    "# Model Constants\n",
    "T_pc = Constant(550)  # Remperature Phase change, K\n",
    "T_inf = Constant(295.372)  # Ambient Temperature, K\n",
    "rho = Constant(1.1774)  # Atmospheric Density, kg/m^3\n",
    "C = Constant(1.0057)  # Atmospheric Specific Heat (kJ/kG)K\n",
    "sigma = Constant(constants.sigma)  # \n",
    "dx = Constant(Lx / nx)\n",
    "H = Constant(15900) # Heat of Combustion of Cellulose, kcal/kg\n",
    "A = Constant(10 ** 9) # pre-exponential factor, 1/s \n",
    "E_A = Constant(83.68) # Activation Energy, kJ/mol\n",
    "R = Constant(constants.R)\n",
    "h = Constant(0.1) # Who knows?"
   ]
  },
  {
   "cell_type": "code",
   "execution_count": 6,
   "metadata": {},
   "outputs": [],
   "source": [
    "# Model Functions\n",
    "def s(T):\n",
    "    return conditional(ge(T, T_pc), 1, 0)"
   ]
  },
  {
   "cell_type": "code",
   "execution_count": 7,
   "metadata": {},
   "outputs": [],
   "source": [
    "# Define the mixed elements\n",
    "P1 = FiniteElement('P', triangle, 1)\n",
    "element = MixedElement([P1, P1])\n",
    "\n",
    "# Define the test functions\n",
    "V = FunctionSpace(mesh, element)\n",
    "v_1, v_2 = TestFunctions(V)\n",
    "\n",
    "# No trial functions since the problem is nonlinear\n",
    "u = Function(V)\n",
    "u_n = Function(V)\n",
    "T, Y = split(u)\n",
    "T_n, Y_n = split(u_n)"
   ]
  },
  {
   "cell_type": "code",
   "execution_count": 23,
   "metadata": {},
   "outputs": [
    {
     "data": {
      "text/plain": [
       "Coefficient(WithGeometry(IndexedProxyFunctionSpace(<firedrake.mesh.MeshTopology object at 0x10956ac10>, FiniteElement('Lagrange', triangle, 1), name=None, index=1, component=None), Mesh(VectorElement(FiniteElement('Lagrange', triangle, 1), dim=2), 1)), 29)"
      ]
     },
     "execution_count": 23,
     "metadata": {},
     "output_type": "execute_result"
    }
   ],
   "source": [
    "# Initial Conditions\n",
    "r_center = sqrt((x - Lx / 2) ** 2 + (y - Ly / 2) ** 2)  # radial distance from center of domain\n",
    "u_max = 10  # Stability is strongly related to this value, make dt smaller if this higher\n",
    "radius = 4.0\n",
    "smooth = 1.5\n",
    "uic = u_max * (1 - 1 / (1 + exp(-smooth * (r_center - radius))))\n",
    "u.sub(0).assign(project(uic, V[0]))\n",
    "u.sub(1).assign(project(Constant(1), V[1]))"
   ]
  },
  {
   "cell_type": "code",
   "execution_count": 24,
   "metadata": {},
   "outputs": [],
   "source": [
    "# Variational Form\n",
    "convection = (rho * C * (((T - T_n)/dt) + dot(w, grad(T))))* v_1 * dx\n",
    "radiation = dot((Constant(4) * sigma * dx * pow(T, 3)) * grad(T), grad(v_1)) * dx\n",
    "reaction = s(T) * H * A * exp(-E_A/(R * T)) * rho * Y * v_1 * dx\n",
    "natural_convection = h * (T - T_inf) * v_1 * dx\n",
    "\n",
    "mass_frac = ((Y - Y_n)/dt) * v_2 * dx\n",
    "second_reaction = s(T) * Y * A * exp(-E_A/(R * T)) * v_2 * dx\n",
    "\n",
    "F = convection - radiation - reaction + natural_convection + mass_frac + second_reaction"
   ]
  },
  {
   "cell_type": "code",
   "execution_count": 29,
   "metadata": {},
   "outputs": [
    {
     "ename": "TypeError",
     "evalue": "_la_solve() missing 1 required positional argument: 'b'",
     "output_type": "error",
     "traceback": [
      "\u001b[0;31m---------------------------------------------------------------------------\u001b[0m",
      "\u001b[0;31mTypeError\u001b[0m                                 Traceback (most recent call last)",
      "\u001b[0;32m/var/folders/rk/jmwfy6gs5133_fvvr02b6t040000gn/T/ipykernel_80813/3557990617.py\u001b[0m in \u001b[0;36m<module>\u001b[0;34m\u001b[0m\n\u001b[1;32m      1\u001b[0m \u001b[0mt\u001b[0m \u001b[0;34m=\u001b[0m \u001b[0;36m0\u001b[0m\u001b[0;34m\u001b[0m\u001b[0;34m\u001b[0m\u001b[0m\n\u001b[1;32m      2\u001b[0m \u001b[0;32mwhile\u001b[0m \u001b[0mt\u001b[0m \u001b[0;34m<=\u001b[0m \u001b[0mtime\u001b[0m\u001b[0;34m:\u001b[0m\u001b[0;34m\u001b[0m\u001b[0;34m\u001b[0m\u001b[0m\n\u001b[0;32m----> 3\u001b[0;31m     \u001b[0msolve\u001b[0m\u001b[0;34m(\u001b[0m\u001b[0mF\u001b[0m \u001b[0;34m==\u001b[0m \u001b[0;36m0\u001b[0m\u001b[0;34m,\u001b[0m \u001b[0mu\u001b[0m\u001b[0;34m)\u001b[0m\u001b[0;34m\u001b[0m\u001b[0;34m\u001b[0m\u001b[0m\n\u001b[0m\u001b[1;32m      4\u001b[0m     \u001b[0mu\u001b[0m\u001b[0;34m.\u001b[0m\u001b[0massign\u001b[0m\u001b[0;34m(\u001b[0m\u001b[0mu_n\u001b[0m\u001b[0;34m)\u001b[0m\u001b[0;34m\u001b[0m\u001b[0;34m\u001b[0m\u001b[0m\n\u001b[1;32m      5\u001b[0m     \u001b[0mt\u001b[0m \u001b[0;34m+=\u001b[0m \u001b[0mdt\u001b[0m\u001b[0;34m\u001b[0m\u001b[0;34m\u001b[0m\u001b[0m\n",
      "\u001b[0;32mPETSc/Log.pyx\u001b[0m in \u001b[0;36mpetsc4py.PETSc.Log.EventDecorator.decorator.wrapped_func\u001b[0;34m()\u001b[0m\n",
      "\u001b[0;32mPETSc/Log.pyx\u001b[0m in \u001b[0;36mpetsc4py.PETSc.Log.EventDecorator.decorator.wrapped_func\u001b[0;34m()\u001b[0m\n",
      "\u001b[0;32m~/School/2021_Fall/CS592-PDEs/firedrake/src/firedrake/firedrake/adjoint/solving.py\u001b[0m in \u001b[0;36mwrapper\u001b[0;34m(*args, **kwargs)\u001b[0m\n\u001b[1;32m     51\u001b[0m \u001b[0;34m\u001b[0m\u001b[0m\n\u001b[1;32m     52\u001b[0m         \u001b[0;32mwith\u001b[0m \u001b[0mstop_annotating\u001b[0m\u001b[0;34m(\u001b[0m\u001b[0;34m)\u001b[0m\u001b[0;34m:\u001b[0m\u001b[0;34m\u001b[0m\u001b[0;34m\u001b[0m\u001b[0m\n\u001b[0;32m---> 53\u001b[0;31m             \u001b[0moutput\u001b[0m \u001b[0;34m=\u001b[0m \u001b[0msolve\u001b[0m\u001b[0;34m(\u001b[0m\u001b[0;34m*\u001b[0m\u001b[0margs\u001b[0m\u001b[0;34m,\u001b[0m \u001b[0;34m**\u001b[0m\u001b[0mkwargs\u001b[0m\u001b[0;34m)\u001b[0m\u001b[0;34m\u001b[0m\u001b[0;34m\u001b[0m\u001b[0m\n\u001b[0m\u001b[1;32m     54\u001b[0m \u001b[0;34m\u001b[0m\u001b[0m\n\u001b[1;32m     55\u001b[0m         \u001b[0;32mif\u001b[0m \u001b[0mannotate\u001b[0m\u001b[0;34m:\u001b[0m\u001b[0;34m\u001b[0m\u001b[0;34m\u001b[0m\u001b[0m\n",
      "\u001b[0;32m~/School/2021_Fall/CS592-PDEs/firedrake/src/firedrake/firedrake/solving.py\u001b[0m in \u001b[0;36msolve\u001b[0;34m(*args, **kwargs)\u001b[0m\n\u001b[1;32m    131\u001b[0m     \u001b[0;32melse\u001b[0m\u001b[0;34m:\u001b[0m\u001b[0;34m\u001b[0m\u001b[0;34m\u001b[0m\u001b[0m\n\u001b[1;32m    132\u001b[0m         \u001b[0;31m# Solve pre-assembled system\u001b[0m\u001b[0;34m\u001b[0m\u001b[0;34m\u001b[0m\u001b[0m\n\u001b[0;32m--> 133\u001b[0;31m         \u001b[0;32mreturn\u001b[0m \u001b[0m_la_solve\u001b[0m\u001b[0;34m(\u001b[0m\u001b[0;34m*\u001b[0m\u001b[0margs\u001b[0m\u001b[0;34m,\u001b[0m \u001b[0;34m**\u001b[0m\u001b[0mkwargs\u001b[0m\u001b[0;34m)\u001b[0m\u001b[0;34m\u001b[0m\u001b[0;34m\u001b[0m\u001b[0m\n\u001b[0m\u001b[1;32m    134\u001b[0m \u001b[0;34m\u001b[0m\u001b[0m\n\u001b[1;32m    135\u001b[0m \u001b[0;34m\u001b[0m\u001b[0m\n",
      "\u001b[0;31mTypeError\u001b[0m: _la_solve() missing 1 required positional argument: 'b'"
     ]
    }
   ],
   "source": [
    "t = 0\n",
    "while t <= time:\n",
    "    solve(F == 0, u)\n",
    "    u.assign(u_n)\n",
    "    t += dt\n"
   ]
  },
  {
   "cell_type": "code",
   "execution_count": null,
   "metadata": {},
   "outputs": [],
   "source": []
  }
 ],
 "metadata": {
  "interpreter": {
   "hash": "40e57fa4f23e84705c0f86d501e9f5a77f80923315c42e1c98bb85fa258aafc7"
  },
  "kernelspec": {
   "display_name": "Python 3.9.7 64-bit ('firedrake': venv)",
   "language": "python",
   "name": "python3"
  },
  "language_info": {
   "codemirror_mode": {
    "name": "ipython",
    "version": 3
   },
   "file_extension": ".py",
   "mimetype": "text/x-python",
   "name": "python",
   "nbconvert_exporter": "python",
   "pygments_lexer": "ipython3",
   "version": "3.9.7"
  },
  "orig_nbformat": 4
 },
 "nbformat": 4,
 "nbformat_minor": 2
}
