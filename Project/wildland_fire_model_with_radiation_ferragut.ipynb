{
 "cells": [
  {
   "cell_type": "markdown",
   "metadata": {},
   "source": [
    "# A FEM implementation of \"On a Wildland Fire Model with Radiation\" using Firedrake\n",
    "\n",
    "Asensio, M.I. and Ferragut, L. (2002), On a wildland fire model with radiation. Int. J. Numer. Meth. Engng., 54: 137-157. https://doi.org/10.1002/nme.420"
   ]
  },
  {
   "cell_type": "code",
   "execution_count": 32,
   "metadata": {},
   "outputs": [],
   "source": [
    "from firedrake import *\n",
    "from tqdm import tqdm\n",
    "import matplotlib.pyplot as plt\n",
    "from scipy import constants"
   ]
  },
  {
   "cell_type": "code",
   "execution_count": 33,
   "metadata": {},
   "outputs": [],
   "source": [
    "# Mesh parameters\n",
    "nx = 500\n",
    "ny = 500\n",
    "Lx = 100\n",
    "Ly = 100\n",
    "mesh = RectangleMesh(nx, ny, Lx, Ly)\n",
    "x, y = SpatialCoordinate(mesh)"
   ]
  },
  {
   "cell_type": "code",
   "execution_count": 34,
   "metadata": {},
   "outputs": [],
   "source": [
    "# Simulation time parameters\n",
    "time = 5\n",
    "num_steps = 100\n",
    "dt_step = time / num_steps\n",
    "dt = Constant(dt_step)"
   ]
  },
  {
   "cell_type": "code",
   "execution_count": 35,
   "metadata": {},
   "outputs": [],
   "source": [
    "# Define the wind field\n",
    "w_uv = as_vector([100, 0])\n",
    "W = VectorFunctionSpace(mesh, family='CG', degree=2, dim=2)\n",
    "w = interpolate(w_uv, W)"
   ]
  },
  {
   "cell_type": "code",
   "execution_count": 36,
   "metadata": {},
   "outputs": [],
   "source": [
    "# Model Constants\n",
    "T_pc = Constant(550)  # Remperature Phase change, K\n",
    "T_inf = Constant(295.372)  # Ambient Temperature, K\n",
    "rho = Constant(1.1774)  # Atmospheric Density, kg/m^3\n",
    "C = Constant(1.0057)  # Atmospheric Specific Heat (kJ/kG)K\n",
    "sigma = Constant(constants.sigma)  # \n",
    "delta = Constant(Lx / nx)\n",
    "H = Constant(15900) # Heat of Combustion of Cellulose, kcal/kg\n",
    "A = Constant(10 ** 9) # pre-exponential factor, 1/s \n",
    "E_A = Constant(83.68) # Activation Energy, kJ/mol\n",
    "R = Constant(constants.R)\n",
    "h = Constant(0.1) # Who knows?"
   ]
  },
  {
   "cell_type": "code",
   "execution_count": 37,
   "metadata": {},
   "outputs": [],
   "source": [
    "# Model Functions\n",
    "def s(T):\n",
    "    return conditional(ge(T, T_pc), 1, 0)"
   ]
  },
  {
   "cell_type": "code",
   "execution_count": 38,
   "metadata": {},
   "outputs": [],
   "source": [
    "# Define the mixed elements\n",
    "P1 = FiniteElement('P', triangle, 1)\n",
    "element = MixedElement([P1, P1])\n",
    "\n",
    "# Define the test functions\n",
    "V = FunctionSpace(mesh, element)\n",
    "v_1, v_2 = TestFunctions(V)\n",
    "\n",
    "# No trial functions since the problem is nonlinear\n",
    "u = Function(V)\n",
    "u_n = Function(V)\n",
    "T, Y = split(u)\n",
    "T_n, Y_n = split(u_n)"
   ]
  },
  {
   "cell_type": "code",
   "execution_count": 39,
   "metadata": {},
   "outputs": [
    {
     "data": {
      "text/plain": [
       "Coefficient(WithGeometry(IndexedProxyFunctionSpace(<firedrake.mesh.MeshTopology object at 0x15a006820>, FiniteElement('Lagrange', triangle, 1), name=None, index=1, component=None), Mesh(VectorElement(FiniteElement('Lagrange', triangle, 1), dim=2), 113)), 282)"
      ]
     },
     "execution_count": 39,
     "metadata": {},
     "output_type": "execute_result"
    }
   ],
   "source": [
    "# Initial Conditions\n",
    "r_center = sqrt((x - Lx / 2) ** 4 + (y - Ly / 2) ** 4)  # radial distance from center of domain\n",
    "u_max = 10  # Stability is strongly related to this value, make dt smaller if this higher\n",
    "radius = 4.0\n",
    "smooth = 1.5\n",
    "uic = u_max * (1 - 1 / (1 + exp(-smooth * (r_center - radius))))\n",
    "u.sub(0).assign(project(uic, V[0]))\n",
    "u.sub(1).assign(project(Constant(1), V[1]))"
   ]
  },
  {
   "cell_type": "code",
   "execution_count": 40,
   "metadata": {},
   "outputs": [],
   "source": [
    "# Variational Form\n",
    "convection = ((rho * C * (((T - T_n)/dt) + inner(w, grad(T))))* v_1) * dx\n",
    "radiation = (inner((Constant(4) * sigma * delta * pow(T, 3)) * grad(T), grad(v_1))) * dx\n",
    "reaction = (s(T) * H * A * exp(-E_A/(R * T)) * rho * Y * v_1) * dx\n",
    "natural_convection = (h * (T - T_inf) * v_1) * dx\n",
    "\n",
    "mass_frac = (((Y - Y_n)/dt) * v_2) * dx\n",
    "second_reaction = (s(T) * Y * A * exp(-E_A/(R * T)) * v_2) * dx\n",
    "\n",
    "F = convection - radiation - reaction + natural_convection + mass_frac + second_reaction "
   ]
  },
  {
   "cell_type": "code",
   "execution_count": 41,
   "metadata": {},
   "outputs": [
    {
     "name": "stderr",
     "output_type": "stream",
     "text": [
      "  4%|▍         | 4/100 [00:28<11:29,  7.18s/it]\n"
     ]
    },
    {
     "ename": "ConvergenceError",
     "evalue": "Nonlinear solve failed to converge after 0 nonlinear iterations.\nReason:\n   DIVERGED_FNORM_NAN",
     "output_type": "error",
     "traceback": [
      "\u001b[0;31m---------------------------------------------------------------------------\u001b[0m",
      "\u001b[0;31mConvergenceError\u001b[0m                          Traceback (most recent call last)",
      "\u001b[0;32m/var/folders/rk/jmwfy6gs5133_fvvr02b6t040000gn/T/ipykernel_10022/1352056794.py\u001b[0m in \u001b[0;36m<module>\u001b[0;34m\u001b[0m\n\u001b[1;32m     27\u001b[0m     \u001b[0;31m# Solve the PDE\u001b[0m\u001b[0;34m\u001b[0m\u001b[0;34m\u001b[0m\u001b[0m\n\u001b[1;32m     28\u001b[0m     \u001b[0;31m# solve(F == 0, u)\u001b[0m\u001b[0;34m\u001b[0m\u001b[0;34m\u001b[0m\u001b[0m\n\u001b[0;32m---> 29\u001b[0;31m     \u001b[0msolver\u001b[0m\u001b[0;34m.\u001b[0m\u001b[0msolve\u001b[0m\u001b[0;34m(\u001b[0m\u001b[0;34m)\u001b[0m\u001b[0;34m\u001b[0m\u001b[0;34m\u001b[0m\u001b[0m\n\u001b[0m\u001b[1;32m     30\u001b[0m \u001b[0;34m\u001b[0m\u001b[0m\n\u001b[1;32m     31\u001b[0m     \u001b[0;31m# Assign the variables to the next time steps\u001b[0m\u001b[0;34m\u001b[0m\u001b[0;34m\u001b[0m\u001b[0m\n",
      "\u001b[0;32mPETSc/Log.pyx\u001b[0m in \u001b[0;36mpetsc4py.PETSc.Log.EventDecorator.decorator.wrapped_func\u001b[0;34m()\u001b[0m\n",
      "\u001b[0;32mPETSc/Log.pyx\u001b[0m in \u001b[0;36mpetsc4py.PETSc.Log.EventDecorator.decorator.wrapped_func\u001b[0;34m()\u001b[0m\n",
      "\u001b[0;32m~/School/2021_Fall/CS592-PDEs/firedrake/src/firedrake/firedrake/adjoint/variational_solver.py\u001b[0m in \u001b[0;36mwrapper\u001b[0;34m(self, **kwargs)\u001b[0m\n\u001b[1;32m     88\u001b[0m \u001b[0;34m\u001b[0m\u001b[0m\n\u001b[1;32m     89\u001b[0m             \u001b[0;32mwith\u001b[0m \u001b[0mstop_annotating\u001b[0m\u001b[0;34m(\u001b[0m\u001b[0;34m)\u001b[0m\u001b[0;34m:\u001b[0m\u001b[0;34m\u001b[0m\u001b[0;34m\u001b[0m\u001b[0m\n\u001b[0;32m---> 90\u001b[0;31m                 \u001b[0mout\u001b[0m \u001b[0;34m=\u001b[0m \u001b[0msolve\u001b[0m\u001b[0;34m(\u001b[0m\u001b[0mself\u001b[0m\u001b[0;34m,\u001b[0m \u001b[0;34m**\u001b[0m\u001b[0mkwargs\u001b[0m\u001b[0;34m)\u001b[0m\u001b[0;34m\u001b[0m\u001b[0;34m\u001b[0m\u001b[0m\n\u001b[0m\u001b[1;32m     91\u001b[0m \u001b[0;34m\u001b[0m\u001b[0m\n\u001b[1;32m     92\u001b[0m             \u001b[0;32mif\u001b[0m \u001b[0mannotate\u001b[0m\u001b[0;34m:\u001b[0m\u001b[0;34m\u001b[0m\u001b[0;34m\u001b[0m\u001b[0m\n",
      "\u001b[0;32m~/School/2021_Fall/CS592-PDEs/firedrake/src/firedrake/firedrake/variational_solver.py\u001b[0m in \u001b[0;36msolve\u001b[0;34m(self, bounds)\u001b[0m\n\u001b[1;32m    279\u001b[0m             \u001b[0mwork\u001b[0m\u001b[0;34m.\u001b[0m\u001b[0mcopy\u001b[0m\u001b[0;34m(\u001b[0m\u001b[0mu\u001b[0m\u001b[0;34m)\u001b[0m\u001b[0;34m\u001b[0m\u001b[0;34m\u001b[0m\u001b[0m\n\u001b[1;32m    280\u001b[0m         \u001b[0mself\u001b[0m\u001b[0;34m.\u001b[0m\u001b[0m_setup\u001b[0m \u001b[0;34m=\u001b[0m \u001b[0;32mTrue\u001b[0m\u001b[0;34m\u001b[0m\u001b[0;34m\u001b[0m\u001b[0m\n\u001b[0;32m--> 281\u001b[0;31m         \u001b[0msolving_utils\u001b[0m\u001b[0;34m.\u001b[0m\u001b[0mcheck_snes_convergence\u001b[0m\u001b[0;34m(\u001b[0m\u001b[0mself\u001b[0m\u001b[0;34m.\u001b[0m\u001b[0msnes\u001b[0m\u001b[0;34m)\u001b[0m\u001b[0;34m\u001b[0m\u001b[0;34m\u001b[0m\u001b[0m\n\u001b[0m\u001b[1;32m    282\u001b[0m \u001b[0;34m\u001b[0m\u001b[0m\n\u001b[1;32m    283\u001b[0m \u001b[0;34m\u001b[0m\u001b[0m\n",
      "\u001b[0;32m~/School/2021_Fall/CS592-PDEs/firedrake/src/firedrake/firedrake/solving_utils.py\u001b[0m in \u001b[0;36mcheck_snes_convergence\u001b[0;34m(snes)\u001b[0m\n\u001b[1;32m    137\u001b[0m         \u001b[0;32melse\u001b[0m\u001b[0;34m:\u001b[0m\u001b[0;34m\u001b[0m\u001b[0;34m\u001b[0m\u001b[0m\n\u001b[1;32m    138\u001b[0m             \u001b[0mmsg\u001b[0m \u001b[0;34m=\u001b[0m \u001b[0mreason\u001b[0m\u001b[0;34m\u001b[0m\u001b[0;34m\u001b[0m\u001b[0m\n\u001b[0;32m--> 139\u001b[0;31m         raise ConvergenceError(r\"\"\"Nonlinear solve failed to converge after %d nonlinear iterations.\n\u001b[0m\u001b[1;32m    140\u001b[0m \u001b[0mReason\u001b[0m\u001b[0;34m:\u001b[0m\u001b[0;34m\u001b[0m\u001b[0;34m\u001b[0m\u001b[0m\n\u001b[1;32m    141\u001b[0m    %s\"\"\" % (snes.getIterationNumber(), msg))\n",
      "\u001b[0;31mConvergenceError\u001b[0m: Nonlinear solve failed to converge after 0 nonlinear iterations.\nReason:\n   DIVERGED_FNORM_NAN"
     ]
    }
   ],
   "source": [
    "solver_parameters = {\n",
    "    \"mat_type\": \"aij\",\n",
    "    \"ksp_type\": \"preonly\",\n",
    "    # Use MUMPS since it handles the null space\n",
    "    \"pc_type\": \"lu\",\n",
    "    \"pc_factor_mat_solver_type\": \"mumps\"\n",
    "}\n",
    "\n",
    "problem = NonlinearVariationalProblem(F, u_n)\n",
    "solver = NonlinearVariationalSolver(problem, solver_parameters=solver_parameters)\n",
    "\n",
    "\n",
    "# Initialize first time step\n",
    "t = 0\n",
    "\n",
    "# Initialize output files\n",
    "vtkfile_T = File('feragut_output/T.pvd')\n",
    "vtkfile_Y = File('feragut_output/Y.pvd')\n",
    "_T, _Y = u.split()\n",
    "vtkfile_T.write(_T, time=t)\n",
    "vtkfile_Y.write(_Y, time=t)\n",
    "\n",
    "# Loop over all time steps\n",
    "for n in tqdm(range(num_steps)):\n",
    "    t += dt_step\n",
    "\n",
    "    # Solve the PDE\n",
    "    # solve(F == 0, u)\n",
    "    solver.solve()\n",
    "\n",
    "    # Assign the variables to the next time steps\n",
    "    u.assign(u_n)\n",
    "\n",
    "    # Save solution to file (VTK)\n",
    "    _T, _Y = u.split()\n",
    "    vtkfile_T.write(_T, time=t)\n",
    "    vtkfile_Y.write(_Y, time=t)\n",
    "        \n"
   ]
  },
  {
   "cell_type": "code",
   "execution_count": null,
   "metadata": {},
   "outputs": [],
   "source": []
  }
 ],
 "metadata": {
  "interpreter": {
   "hash": "40e57fa4f23e84705c0f86d501e9f5a77f80923315c42e1c98bb85fa258aafc7"
  },
  "kernelspec": {
   "display_name": "Python 3.9.7 64-bit ('firedrake': venv)",
   "language": "python",
   "name": "python3"
  },
  "language_info": {
   "codemirror_mode": {
    "name": "ipython",
    "version": 3
   },
   "file_extension": ".py",
   "mimetype": "text/x-python",
   "name": "python",
   "nbconvert_exporter": "python",
   "pygments_lexer": "ipython3",
   "version": "3.9.7"
  },
  "orig_nbformat": 4
 },
 "nbformat": 4,
 "nbformat_minor": 2
}
