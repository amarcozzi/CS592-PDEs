{
 "cells": [
  {
   "cell_type": "markdown",
   "metadata": {},
   "source": [
    "# My Reaction - Advection - Diffusion Model\n",
    "\n",
    "## 3 species: vegetation, combustible gases, heat\n",
    "\n",
    "### Reaction 1: Vegetation + Heat -> Combustible Gas\n",
    "### Reaction 2: Heat + Combustible Gas -> Heat"
   ]
  },
  {
   "cell_type": "markdown",
   "metadata": {},
   "source": [
    "# System of PDEs\n",
    "## (1) $\\frac{\\partial u_1}{\\partial t} = -K_1 u_1 u_3$\n",
    "## (2) $\\frac{\\partial u_2}{\\partial t} + w \\cdot \\nabla u_2 - \\nabla \\cdot (\\epsilon \\nabla u_2) = K_1 u_1 u_3 - K_2 u_2 u_3$\n",
    "## (3) $\\frac{\\partial u_3}{\\partial t} + w \\cdot \\nabla u_3 - \\nabla \\cdot (\\epsilon \\nabla u_3) = K_2 u_2 u_3 - K_1 u_1 u_3$"
   ]
  },
  {
   "cell_type": "markdown",
   "metadata": {},
   "source": [
    "# Variational Form\n",
    "## (1) $\\int_{\\Omega} \\frac{\\partial u_1}{\\partial t} v_1 - \\int_{\\Omega} -K_1 u_1 u_3 v_1 = 0$\n",
    "## (2) $\\int_{\\Omega} \\frac{\\partial u_2}{\\partial t} v_2 + w \\cdot \\nabla u_2 v_2 - \\epsilon \\nabla u_2 \\nabla v_2 - \\int_{\\Omega} (K_1 u_1 u_3 - K_2 u_2 u_3) v_2 = 0$\n",
    "## (3) $\\int_{\\Omega} \\frac{\\partial u_3}{\\partial t} v_3 + w \\cdot \\nabla u_3 v_3 - \\epsilon \\nabla u_3 \\nabla v_3 - \\int_{\\Omega} (K_2 u_2 u_3 - K_1 u_1 u_3) v_3 = 0$"
   ]
  },
  {
   "cell_type": "code",
   "execution_count": 12,
   "metadata": {},
   "outputs": [],
   "source": [
    "from firedrake import *\n",
    "from tqdm import tqdm\n",
    "from scipy import constants\n",
    "import numpy as np\n",
    "import matplotlib.pyplot as plt"
   ]
  },
  {
   "cell_type": "code",
   "execution_count": 13,
   "metadata": {},
   "outputs": [],
   "source": [
    "# Mesh parameters\n",
    "Lx = 5\n",
    "Ly = 4\n",
    "Nx = 50\n",
    "Ny = 40\n",
    "mesh = RectangleMesh(Nx, Ny, Lx, Ly)\n",
    "x, y = SpatialCoordinate(mesh)"
   ]
  },
  {
   "cell_type": "code",
   "execution_count": 14,
   "metadata": {},
   "outputs": [],
   "source": [
    "# Simulation time parameters\n",
    "T = 5.\n",
    "num_steps = 50\n",
    "dt_step = T / num_steps\n",
    "dt = Constant(dt_step)\n",
    "t = 0"
   ]
  },
  {
   "cell_type": "code",
   "execution_count": 15,
   "metadata": {},
   "outputs": [],
   "source": [
    "# Model parameters\n",
    "eps_heat = Constant(0.5)\n",
    "eps_gas = Constant(0.01)  # Diffusion Rate\n",
    "K = Constant(1)\n"
   ]
  },
  {
   "cell_type": "code",
   "execution_count": 16,
   "metadata": {},
   "outputs": [],
   "source": [
    "# Advection Term\n",
    "w_uv = as_vector((\n",
    "    0.1,\n",
    "    0\n",
    "))\n",
    "W = VectorFunctionSpace(mesh, family='CG', degree=2, dim=2)\n",
    "w = interpolate(w_uv, W)"
   ]
  },
  {
   "cell_type": "code",
   "execution_count": 17,
   "metadata": {},
   "outputs": [],
   "source": [
    "# Plot the wind field\n",
    "# fig, axes = plt.subplots(figsize=(12, 12))\n",
    "# axes.set_title('Advection Field')\n",
    "# opts = {'resolution': 1/32, 'seed': 1}\n",
    "# streamlines = streamplot(w, axes=axes, **opts)\n",
    "# fig.colorbar(streamlines)"
   ]
  },
  {
   "cell_type": "code",
   "execution_count": 18,
   "metadata": {},
   "outputs": [],
   "source": [
    "# Define the mixed elements\n",
    "P1 = FiniteElement('P', triangle, 1)\n",
    "element = MixedElement([P1, P1, P1])\n",
    "\n",
    "# Define the test functions\n",
    "V = FunctionSpace(mesh, element)\n",
    "v_1, v_2, v_3 = TestFunctions(V)\n",
    "\n",
    "# No trial functions since the problem is nonlinear\n",
    "u = Function(V)\n",
    "u_n = Function(V)\n"
   ]
  },
  {
   "cell_type": "code",
   "execution_count": 19,
   "metadata": {},
   "outputs": [
    {
     "data": {
      "text/plain": [
       "Coefficient(WithGeometry(IndexedProxyFunctionSpace(<firedrake.mesh.MeshTopology object at 0x137fbf0a0>, FiniteElement('Lagrange', triangle, 1), name=None, index=2, component=None), Mesh(VectorElement(FiniteElement('Lagrange', triangle, 1), dim=2), 328)), 686)"
      ]
     },
     "execution_count": 19,
     "metadata": {},
     "output_type": "execute_result"
    }
   ],
   "source": [
    "# Define Fuel initial conditions\n",
    "u.sub(0).assign(project(Constant(1), V[0]))\n",
    "u_n.sub(0).assign(project(Constant(1), V[0]))\n",
    "\n",
    "# Define Heat Initial Condition\n",
    "heat_ic = conditional(pow(x - 0.75, 2) + pow(y - 2, 2) < 0.25**2, 10, 0)\n",
    "u.sub(2).assign(project(heat_ic, V[2]))\n",
    "u_n.sub(2).assign(project(heat_ic, V[2]))"
   ]
  },
  {
   "cell_type": "code",
   "execution_count": 20,
   "metadata": {},
   "outputs": [],
   "source": [
    "# Pull variables from u and u_n function spaces\n",
    "u_1, u_2, u_3 = split(u)\n",
    "u_n1, u_n2, u_n3 = split(u_n)"
   ]
  },
  {
   "cell_type": "code",
   "execution_count": 21,
   "metadata": {},
   "outputs": [],
   "source": [
    "# Build the variational form of the elements\n",
    "fuel_element = (((u_1 - u_n1) / dt)*v_1)*dx\n",
    "gas_element = ((u_2 - u_n2) / dt)*v_2*dx + dot(w, grad(u_2))*v_2*dx + eps_gas*dot(grad(u_2), grad(v_2))*dx\n",
    "heat_element = ((u_3 - u_n3) / dt)*v_3*dx + dot(w, grad(u_3))*v_3*dx + eps_heat*dot(grad(u_3), grad(v_3))*dx\n",
    "elements_variational_form = fuel_element + gas_element + heat_element\n",
    "\n",
    "# Build each reaction\n",
    "# K_arr = A * exp(E_A/(R * u_3))\n",
    "# K_arr = conditional(ge(u_3, u_pc), 100, 0.1)\n",
    "fuel_heat_reaction = K * u_1 * u_3\n",
    "gas_heat_reaction = K * u_2 * u_3\n",
    "\n",
    "# Build the variational form of the reactions\n",
    "fuel_reactions = -fuel_heat_reaction * v_1 * dx\n",
    "gas_reactions = (fuel_heat_reaction - gas_heat_reaction) * v_2 * dx\n",
    "heat_reactions = (10*gas_heat_reaction - fuel_heat_reaction) * v_3 * dx\n",
    "reactions_variational_form = fuel_reactions + gas_reactions + heat_reactions\n",
    "\n",
    "# Combine the variational forms\n",
    "F = elements_variational_form - reactions_variational_form\n"
   ]
  },
  {
   "cell_type": "code",
   "execution_count": 22,
   "metadata": {},
   "outputs": [
    {
     "name": "stderr",
     "output_type": "stream",
     "text": [
      "100%|██████████| 50/50 [00:11<00:00,  4.39it/s]\n"
     ]
    }
   ],
   "source": [
    "problem = NonlinearVariationalProblem(F, u)\n",
    "solver = NonlinearVariationalSolver(problem)\n",
    "\n",
    "# Initialize time\n",
    "t=0\n",
    "\n",
    "# Create VTK files for visualization output\n",
    "vtkfile_u_1 = File('my_model_output/fuel.pvd')\n",
    "vtkfile_u_2 = File('my_model_output/gas.pvd')\n",
    "vtkfile_u_3 = File('my_model_output/heat.pvd')\n",
    "_u_1, _u_2, _u_3 = u.split()\n",
    "vtkfile_u_1.write(_u_1, time=t)\n",
    "vtkfile_u_2.write(_u_2, time=t)\n",
    "vtkfile_u_3.write(_u_3, time=t)\n",
    "\n",
    "# Solve the system\n",
    "for n in tqdm(range(num_steps), leave=True, position=0):\n",
    "    t += dt_step\n",
    "\n",
    "    # w_uv = as_vector((\n",
    "    #     2,\n",
    "    #     sin(t**2)\n",
    "    # ))\n",
    "    # w = interpolate(w_uv, W)\n",
    "\n",
    "    # solve(F == 0, u)\n",
    "    solver.solve()\n",
    "\n",
    "    # Save solution to file (VTK)\n",
    "    _u_1, _u_2, _u_3 = u.split()\n",
    "    vtkfile_u_1.write(_u_1, time=t)\n",
    "    vtkfile_u_2.write(_u_2, time=t)\n",
    "    vtkfile_u_3.write(_u_3, time=t)\n",
    "\n",
    "    # Update previous solution\n",
    "    u_n.assign(u)"
   ]
  }
 ],
 "metadata": {
  "interpreter": {
   "hash": "40e57fa4f23e84705c0f86d501e9f5a77f80923315c42e1c98bb85fa258aafc7"
  },
  "kernelspec": {
   "display_name": "Python 3.9.7 64-bit ('firedrake': venv)",
   "language": "python",
   "name": "python3"
  },
  "language_info": {
   "codemirror_mode": {
    "name": "ipython",
    "version": 3
   },
   "file_extension": ".py",
   "mimetype": "text/x-python",
   "name": "python",
   "nbconvert_exporter": "python",
   "pygments_lexer": "ipython3",
   "version": "3.9.7"
  },
  "orig_nbformat": 4
 },
 "nbformat": 4,
 "nbformat_minor": 2
}
